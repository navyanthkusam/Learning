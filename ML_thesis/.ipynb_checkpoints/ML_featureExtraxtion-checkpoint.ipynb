{
 "cells": [
  {
   "cell_type": "markdown",
   "metadata": {},
   "source": [
    "# Using the HDF 5 data"
   ]
  },
  {
   "cell_type": "markdown",
   "metadata": {},
   "source": [
    "#### 1. Reading the file"
   ]
  },
  {
   "cell_type": "markdown",
   "metadata": {},
   "source": [
    "To open and read data we use the File method in read mode, r."
   ]
  },
  {
   "cell_type": "markdown",
   "metadata": {},
   "source": [
    "https://atztogo.github.io/phono3py/hdf5_howto.html\n",
    "\n",
    "http://docs.h5py.org/en/stable/high/attr.html#AttributeManager.__iter__"
   ]
  },
  {
   "cell_type": "code",
   "execution_count": 51,
   "metadata": {},
   "outputs": [],
   "source": [
    "import h5py\n",
    "import pandas as pandas\n",
    "import numpy as np\n",
    "\n",
    "file_name = 'LinearElastic/geom_tensionX.hdf5'\n",
    "hf = h5py.File(file_name,'r')\n"
   ]
  },
  {
   "cell_type": "code",
   "execution_count": 53,
   "metadata": {},
   "outputs": [],
   "source": [
    "#np.array((hf['geometry']['connectivity_cell']))"
   ]
  },
  {
   "cell_type": "code",
   "execution_count": 54,
   "metadata": {},
   "outputs": [],
   "source": [
    "#np.array((hf['geometry']['connectivity_elem']))"
   ]
  },
  {
   "cell_type": "code",
   "execution_count": 55,
   "metadata": {},
   "outputs": [],
   "source": [
    "#list(hf.values())"
   ]
  },
  {
   "cell_type": "code",
   "execution_count": 56,
   "metadata": {},
   "outputs": [],
   "source": [
    "#list(hf.items())"
   ]
  },
  {
   "cell_type": "code",
   "execution_count": 57,
   "metadata": {},
   "outputs": [],
   "source": [
    "#hf.visit(print)"
   ]
  },
  {
   "cell_type": "code",
   "execution_count": 66,
   "metadata": {},
   "outputs": [],
   "source": [
    "#Geometry\n",
    "pos = np.array(hf['geometry']['cell_0'])             # material point coordinates (Undeformed)        \n",
    "x_pos = pos[:,0]\n",
    "y_pos = pos[:,1]\n",
    "z_pos = pos[:,2]"
   ]
  },
  {
   "cell_type": "code",
   "execution_count": 72,
   "metadata": {},
   "outputs": [
    {
     "data": {
      "text/plain": [
       "array([[[ 1.09017162, -0.00268638,  0.        ],\n",
       "        [-0.00787592,  0.97431012,  0.        ],\n",
       "        [ 0.        ,  0.        ,  0.97971403]]])"
      ]
     },
     "execution_count": 72,
     "metadata": {},
     "output_type": "execute_result"
    }
   ],
   "source": [
    "np.array(hf['inc00010']['constituent']['01_def and firstPicola']['F'])     \n"
   ]
  },
  {
   "cell_type": "code",
   "execution_count": 74,
   "metadata": {},
   "outputs": [
    {
     "data": {
      "text/plain": [
       "array([[[ 1.29400045e+10, -5.77658145e+08,  0.00000000e+00],\n",
       "        [-6.09965924e+08, -8.74582049e+07,  0.00000000e+00],\n",
       "        [ 0.00000000e+00,  0.00000000e+00,  4.24763505e+08]],\n",
       "\n",
       "       [[ 1.51715571e+10, -3.28224277e+08,  0.00000000e+00],\n",
       "        [-3.48963002e+08,  3.21793491e+08,  0.00000000e+00],\n",
       "        [ 0.00000000e+00,  0.00000000e+00,  9.92889462e+08]],\n",
       "\n",
       "       [[ 1.23848608e+10,  5.52348617e+08,  0.00000000e+00],\n",
       "        [ 5.82381168e+08, -1.31210388e+09,  0.00000000e+00],\n",
       "        [ 0.00000000e+00,  0.00000000e+00, -1.05776288e+09]],\n",
       "\n",
       "       [[ 1.44950123e+10,  3.14519722e+08,  0.00000000e+00],\n",
       "        [ 3.32900396e+08,  5.67751113e+08,  0.00000000e+00],\n",
       "        [ 0.00000000e+00,  0.00000000e+00,  9.16919171e+08]],\n",
       "\n",
       "       [[ 1.32795195e+10, -3.28853449e+08,  0.00000000e+00],\n",
       "        [-3.44839410e+08,  1.21081272e+09,  0.00000000e+00],\n",
       "        [ 0.00000000e+00,  0.00000000e+00,  8.27672221e+08]],\n",
       "\n",
       "       [[ 1.22168290e+10,  2.50675739e+08,  0.00000000e+00],\n",
       "        [ 2.65083838e+08, -7.54253994e+08,  0.00000000e+00],\n",
       "        [ 0.00000000e+00,  0.00000000e+00, -1.01803862e+09]],\n",
       "\n",
       "       [[ 1.26021947e+10,  3.13900299e+08,  0.00000000e+00],\n",
       "        [ 3.28737039e+08, -3.18653327e+08,  0.00000000e+00],\n",
       "        [ 0.00000000e+00,  0.00000000e+00, -9.49817493e+08]],\n",
       "\n",
       "       [[ 1.34017862e+10, -2.73633553e+08,  0.00000000e+00],\n",
       "        [-2.91133818e+08,  3.73857104e+08,  0.00000000e+00],\n",
       "        [ 0.00000000e+00,  0.00000000e+00,  6.40556256e+08]],\n",
       "\n",
       "       [[ 1.08848351e+10,  5.52847292e+08,  0.00000000e+00],\n",
       "        [ 5.76101194e+08, -6.10493509e+08,  0.00000000e+00],\n",
       "        [ 0.00000000e+00,  0.00000000e+00, -1.10408182e+09]],\n",
       "\n",
       "       [[ 1.26021947e+10,  3.13900299e+08,  0.00000000e+00],\n",
       "        [ 3.28737039e+08, -3.18653327e+08,  0.00000000e+00],\n",
       "        [ 0.00000000e+00,  0.00000000e+00, -9.49817493e+08]],\n",
       "\n",
       "       [[ 1.14412549e+10, -5.77183583e+08,  0.00000000e+00],\n",
       "        [-6.03669068e+08, -7.88518388e+08,  0.00000000e+00],\n",
       "        [ 0.00000000e+00,  0.00000000e+00, -1.07897640e+09]],\n",
       "\n",
       "       [[ 1.32795195e+10, -3.28853449e+08,  0.00000000e+00],\n",
       "        [-3.44839410e+08,  1.21081272e+09,  0.00000000e+00],\n",
       "        [ 0.00000000e+00,  0.00000000e+00,  8.27672221e+08]],\n",
       "\n",
       "       [[ 1.44950123e+10,  3.14519722e+08,  0.00000000e+00],\n",
       "        [ 3.32900396e+08,  5.67751113e+08,  0.00000000e+00],\n",
       "        [ 0.00000000e+00,  0.00000000e+00,  9.16919171e+08]],\n",
       "\n",
       "       [[ 1.34017862e+10, -2.73633553e+08,  0.00000000e+00],\n",
       "        [-2.91133818e+08,  3.73857104e+08,  0.00000000e+00],\n",
       "        [ 0.00000000e+00,  0.00000000e+00,  6.40556256e+08]],\n",
       "\n",
       "       [[ 1.51715571e+10, -3.28224277e+08,  0.00000000e+00],\n",
       "        [-3.48963002e+08,  3.21793491e+08,  0.00000000e+00],\n",
       "        [ 0.00000000e+00,  0.00000000e+00,  9.92889462e+08]],\n",
       "\n",
       "       [[ 1.22168290e+10,  2.50675739e+08,  0.00000000e+00],\n",
       "        [ 2.65083838e+08, -7.54253994e+08,  0.00000000e+00],\n",
       "        [ 0.00000000e+00,  0.00000000e+00, -1.01803862e+09]]])"
      ]
     },
     "execution_count": 74,
     "metadata": {},
     "output_type": "execute_result"
    }
   ],
   "source": [
    "np.array(hf['inc00010']['constituent']['01_def and firstPicola']['P'])   "
   ]
  },
  {
   "cell_type": "code",
   "execution_count": 78,
   "metadata": {},
   "outputs": [
    {
     "data": {
      "text/plain": [
       "array([[[ 1.08106465, -0.00239734,  0.        ],\n",
       "        [-0.00714666,  0.97703292,  0.        ],\n",
       "        [ 0.        ,  0.        ,  0.98185338]]])"
      ]
     },
     "execution_count": 78,
     "metadata": {},
     "output_type": "execute_result"
    }
   ],
   "source": [
    "np.array(hf['inc00010']['constituent']['01_def and firstPicola']['F']) \n",
    "np.array(hf['inc00009']['constituent']['01_def and firstPicola']['F']) "
   ]
  },
  {
   "cell_type": "code",
   "execution_count": 93,
   "metadata": {},
   "outputs": [],
   "source": [
    "af = list(hf)\n",
    "inc = af[1:-1]"
   ]
  },
  {
   "cell_type": "code",
   "execution_count": 97,
   "metadata": {},
   "outputs": [
    {
     "data": {
      "text/plain": [
       "['inc00000',\n",
       " 'inc00001',\n",
       " 'inc00002',\n",
       " 'inc00003',\n",
       " 'inc00004',\n",
       " 'inc00005',\n",
       " 'inc00006',\n",
       " 'inc00007',\n",
       " 'inc00008',\n",
       " 'inc00009',\n",
       " 'inc00010']"
      ]
     },
     "execution_count": 97,
     "metadata": {},
     "output_type": "execute_result"
    }
   ],
   "source": [
    "inc\n"
   ]
  },
  {
   "cell_type": "code",
   "execution_count": 99,
   "metadata": {},
   "outputs": [
    {
     "data": {
      "text/plain": [
       "'inc00000'"
      ]
     },
     "execution_count": 99,
     "metadata": {},
     "output_type": "execute_result"
    }
   ],
   "source": [
    "inc[0]"
   ]
  },
  {
   "cell_type": "code",
   "execution_count": 101,
   "metadata": {},
   "outputs": [
    {
     "name": "stdout",
     "output_type": "stream",
     "text": [
      "0\n",
      "1\n",
      "2\n",
      "3\n",
      "4\n",
      "5\n",
      "6\n",
      "7\n",
      "8\n",
      "9\n",
      "10\n"
     ]
    }
   ],
   "source": [
    "for i in range(len(inc)):\n",
    "    print(i)"
   ]
  },
  {
   "cell_type": "code",
   "execution_count": 131,
   "metadata": {},
   "outputs": [
    {
     "data": {
      "text/plain": [
       "array([[[ 1.00000000e+00,  0.00000000e+00,  0.00000000e+00],\n",
       "        [ 0.00000000e+00,  1.00000000e+00,  0.00000000e+00],\n",
       "        [ 0.00000000e+00,  0.00000000e+00,  1.00000000e+00]],\n",
       "\n",
       "       [[ 1.00891049e+00, -2.41535253e-04,  0.00000000e+00],\n",
       "        [-8.54823087e-04,  9.97584876e-01,  0.00000000e+00],\n",
       "        [ 0.00000000e+00,  0.00000000e+00,  9.98080834e-01]],\n",
       "\n",
       "       [[ 1.01784579e+00, -4.93547443e-04,  0.00000000e+00],\n",
       "        [-1.69721131e-03,  9.95132076e-01,  0.00000000e+00],\n",
       "        [ 0.00000000e+00,  0.00000000e+00,  9.96138741e-01]],\n",
       "\n",
       "       [[ 1.02682256e+00, -7.50061898e-04,  0.00000000e+00],\n",
       "        [-2.51366988e-03,  9.92654942e-01,  0.00000000e+00],\n",
       "        [ 0.00000000e+00,  0.00000000e+00,  9.94170261e-01]],\n",
       "\n",
       "       [[ 1.03580631e+00, -1.00932553e-03,  0.00000000e+00],\n",
       "        [-3.32138982e-03,  9.90140408e-01,  0.00000000e+00],\n",
       "        [ 0.00000000e+00,  0.00000000e+00,  9.92178054e-01]],\n",
       "\n",
       "       [[ 1.04481004e+00, -1.28410268e-03,  0.00000000e+00],\n",
       "        [-4.11763890e-03,  9.87581131e-01,  0.00000000e+00],\n",
       "        [ 0.00000000e+00,  0.00000000e+00,  9.90165759e-01]],\n",
       "\n",
       "       [[ 1.05385222e+00, -1.55515938e-03,  0.00000000e+00],\n",
       "        [-4.88974576e-03,  9.84997444e-01,  0.00000000e+00],\n",
       "        [ 0.00000000e+00,  0.00000000e+00,  9.88124894e-01]],\n",
       "\n",
       "       [[ 1.06289987e+00, -1.83110666e-03,  0.00000000e+00],\n",
       "        [-5.65703712e-03,  9.82375031e-01,  0.00000000e+00],\n",
       "        [ 0.00000000e+00,  0.00000000e+00,  9.86058330e-01]],\n",
       "\n",
       "       [[ 1.07197504e+00, -2.11326828e-03,  0.00000000e+00],\n",
       "        [-6.40718634e-03,  9.79721888e-01,  0.00000000e+00],\n",
       "        [ 0.00000000e+00,  0.00000000e+00,  9.83969585e-01]],\n",
       "\n",
       "       [[ 1.08106465e+00, -2.39734043e-03,  0.00000000e+00],\n",
       "        [-7.14666091e-03,  9.77032923e-01,  0.00000000e+00],\n",
       "        [ 0.00000000e+00,  0.00000000e+00,  9.81853376e-01]],\n",
       "\n",
       "       [[ 1.09017162e+00, -2.68637690e-03,  0.00000000e+00],\n",
       "        [-7.87591815e-03,  9.74310117e-01,  0.00000000e+00],\n",
       "        [ 0.00000000e+00,  0.00000000e+00,  9.79714031e-01]]])"
      ]
     },
     "execution_count": 131,
     "metadata": {},
     "output_type": "execute_result"
    }
   ],
   "source": [
    "F=np.zeros((len(inc),3,3))\n",
    "for i in range(len(inc)):\n",
    "    F[i] = np.array(hf[inc[i]]['constituent']['01_def and firstPicola']['F'])\n",
    "F"
   ]
  },
  {
   "cell_type": "code",
   "execution_count": 143,
   "metadata": {
    "scrolled": true
   },
   "outputs": [
    {
     "name": "stdout",
     "output_type": "stream",
     "text": [
      "[[[0. 0. 0.]\n",
      "  [0. 0. 0.]\n",
      "  [0. 0. 0.]]\n",
      "\n",
      " [[0. 0. 0.]\n",
      "  [0. 0. 0.]\n",
      "  [0. 0. 0.]]\n",
      "\n",
      " [[0. 0. 0.]\n",
      "  [0. 0. 0.]\n",
      "  [0. 0. 0.]]\n",
      "\n",
      " [[0. 0. 0.]\n",
      "  [0. 0. 0.]\n",
      "  [0. 0. 0.]]\n",
      "\n",
      " [[0. 0. 0.]\n",
      "  [0. 0. 0.]\n",
      "  [0. 0. 0.]]\n",
      "\n",
      " [[0. 0. 0.]\n",
      "  [0. 0. 0.]\n",
      "  [0. 0. 0.]]\n",
      "\n",
      " [[0. 0. 0.]\n",
      "  [0. 0. 0.]\n",
      "  [0. 0. 0.]]\n",
      "\n",
      " [[0. 0. 0.]\n",
      "  [0. 0. 0.]\n",
      "  [0. 0. 0.]]\n",
      "\n",
      " [[0. 0. 0.]\n",
      "  [0. 0. 0.]\n",
      "  [0. 0. 0.]]\n",
      "\n",
      " [[0. 0. 0.]\n",
      "  [0. 0. 0.]\n",
      "  [0. 0. 0.]]\n",
      "\n",
      " [[0. 0. 0.]\n",
      "  [0. 0. 0.]\n",
      "  [0. 0. 0.]]\n",
      "\n",
      " [[0. 0. 0.]\n",
      "  [0. 0. 0.]\n",
      "  [0. 0. 0.]]\n",
      "\n",
      " [[0. 0. 0.]\n",
      "  [0. 0. 0.]\n",
      "  [0. 0. 0.]]\n",
      "\n",
      " [[0. 0. 0.]\n",
      "  [0. 0. 0.]\n",
      "  [0. 0. 0.]]\n",
      "\n",
      " [[0. 0. 0.]\n",
      "  [0. 0. 0.]\n",
      "  [0. 0. 0.]]\n",
      "\n",
      " [[0. 0. 0.]\n",
      "  [0. 0. 0.]\n",
      "  [0. 0. 0.]]]\n"
     ]
    }
   ],
   "source": [
    "print(np.array(hf[inc[0]]['constituent']['01_def and firstPicola']['P']))   # in inc0000 all data points"
   ]
  },
  {
   "cell_type": "code",
   "execution_count": 145,
   "metadata": {},
   "outputs": [
    {
     "data": {
      "text/plain": [
       "(16, 3, 3)"
      ]
     },
     "execution_count": 145,
     "metadata": {},
     "output_type": "execute_result"
    }
   ],
   "source": [
    "np.array(hf[inc[0]]['constituent']['01_def and firstPicola']['P']).shape   # in inc0000 all data points"
   ]
  },
  {
   "cell_type": "code",
   "execution_count": 139,
   "metadata": {},
   "outputs": [
    {
     "data": {
      "text/plain": [
       "(16, 3, 3)"
      ]
     },
     "execution_count": 139,
     "metadata": {},
     "output_type": "execute_result"
    }
   ],
   "source": [
    "np.array(hf[inc[i]]['constituent']['01_def and firstPicola']['P']).shape"
   ]
  },
  {
   "cell_type": "markdown",
   "metadata": {},
   "source": [
    "# Here the Values are described"
   ]
  },
  {
   "cell_type": "code",
   "execution_count": null,
   "metadata": {},
   "outputs": [],
   "source": [
    "#P_dim =(inc,materialpoints,3,3)\n",
    "P=np.zeros((16,3,3))\n",
    "for i in range(len(inc)):\n",
    "  print(np.array(hf[inc[i]]['constituent']['01_def and firstPicola']['P']))\n"
   ]
  },
  {
   "cell_type": "code",
   "execution_count": 152,
   "metadata": {},
   "outputs": [],
   "source": [
    "p_shape_inc0= np.array(hf[inc[0]]['constituent']['01_def and firstPicola']['P']).shape"
   ]
  },
  {
   "cell_type": "code",
   "execution_count": 159,
   "metadata": {},
   "outputs": [
    {
     "data": {
      "text/plain": [
       "16"
      ]
     },
     "execution_count": 159,
     "metadata": {},
     "output_type": "execute_result"
    }
   ],
   "source": [
    "p_shape_inc0[0]"
   ]
  },
  {
   "cell_type": "code",
   "execution_count": 171,
   "metadata": {},
   "outputs": [
    {
     "data": {
      "text/plain": [
       "array([[[[0., 0., 0.],\n",
       "         [0., 0., 0.],\n",
       "         [0., 0., 0.]],\n",
       "\n",
       "        [[0., 0., 0.],\n",
       "         [0., 0., 0.],\n",
       "         [0., 0., 0.]],\n",
       "\n",
       "        [[0., 0., 0.],\n",
       "         [0., 0., 0.],\n",
       "         [0., 0., 0.]],\n",
       "\n",
       "        ...,\n",
       "\n",
       "        [[0., 0., 0.],\n",
       "         [0., 0., 0.],\n",
       "         [0., 0., 0.]],\n",
       "\n",
       "        [[0., 0., 0.],\n",
       "         [0., 0., 0.],\n",
       "         [0., 0., 0.]],\n",
       "\n",
       "        [[0., 0., 0.],\n",
       "         [0., 0., 0.],\n",
       "         [0., 0., 0.]]],\n",
       "\n",
       "\n",
       "       [[[0., 0., 0.],\n",
       "         [0., 0., 0.],\n",
       "         [0., 0., 0.]],\n",
       "\n",
       "        [[0., 0., 0.],\n",
       "         [0., 0., 0.],\n",
       "         [0., 0., 0.]],\n",
       "\n",
       "        [[0., 0., 0.],\n",
       "         [0., 0., 0.],\n",
       "         [0., 0., 0.]],\n",
       "\n",
       "        ...,\n",
       "\n",
       "        [[0., 0., 0.],\n",
       "         [0., 0., 0.],\n",
       "         [0., 0., 0.]],\n",
       "\n",
       "        [[0., 0., 0.],\n",
       "         [0., 0., 0.],\n",
       "         [0., 0., 0.]],\n",
       "\n",
       "        [[0., 0., 0.],\n",
       "         [0., 0., 0.],\n",
       "         [0., 0., 0.]]],\n",
       "\n",
       "\n",
       "       [[[0., 0., 0.],\n",
       "         [0., 0., 0.],\n",
       "         [0., 0., 0.]],\n",
       "\n",
       "        [[0., 0., 0.],\n",
       "         [0., 0., 0.],\n",
       "         [0., 0., 0.]],\n",
       "\n",
       "        [[0., 0., 0.],\n",
       "         [0., 0., 0.],\n",
       "         [0., 0., 0.]],\n",
       "\n",
       "        ...,\n",
       "\n",
       "        [[0., 0., 0.],\n",
       "         [0., 0., 0.],\n",
       "         [0., 0., 0.]],\n",
       "\n",
       "        [[0., 0., 0.],\n",
       "         [0., 0., 0.],\n",
       "         [0., 0., 0.]],\n",
       "\n",
       "        [[0., 0., 0.],\n",
       "         [0., 0., 0.],\n",
       "         [0., 0., 0.]]],\n",
       "\n",
       "\n",
       "       ...,\n",
       "\n",
       "\n",
       "       [[[0., 0., 0.],\n",
       "         [0., 0., 0.],\n",
       "         [0., 0., 0.]],\n",
       "\n",
       "        [[0., 0., 0.],\n",
       "         [0., 0., 0.],\n",
       "         [0., 0., 0.]],\n",
       "\n",
       "        [[0., 0., 0.],\n",
       "         [0., 0., 0.],\n",
       "         [0., 0., 0.]],\n",
       "\n",
       "        ...,\n",
       "\n",
       "        [[0., 0., 0.],\n",
       "         [0., 0., 0.],\n",
       "         [0., 0., 0.]],\n",
       "\n",
       "        [[0., 0., 0.],\n",
       "         [0., 0., 0.],\n",
       "         [0., 0., 0.]],\n",
       "\n",
       "        [[0., 0., 0.],\n",
       "         [0., 0., 0.],\n",
       "         [0., 0., 0.]]],\n",
       "\n",
       "\n",
       "       [[[0., 0., 0.],\n",
       "         [0., 0., 0.],\n",
       "         [0., 0., 0.]],\n",
       "\n",
       "        [[0., 0., 0.],\n",
       "         [0., 0., 0.],\n",
       "         [0., 0., 0.]],\n",
       "\n",
       "        [[0., 0., 0.],\n",
       "         [0., 0., 0.],\n",
       "         [0., 0., 0.]],\n",
       "\n",
       "        ...,\n",
       "\n",
       "        [[0., 0., 0.],\n",
       "         [0., 0., 0.],\n",
       "         [0., 0., 0.]],\n",
       "\n",
       "        [[0., 0., 0.],\n",
       "         [0., 0., 0.],\n",
       "         [0., 0., 0.]],\n",
       "\n",
       "        [[0., 0., 0.],\n",
       "         [0., 0., 0.],\n",
       "         [0., 0., 0.]]],\n",
       "\n",
       "\n",
       "       [[[0., 0., 0.],\n",
       "         [0., 0., 0.],\n",
       "         [0., 0., 0.]],\n",
       "\n",
       "        [[0., 0., 0.],\n",
       "         [0., 0., 0.],\n",
       "         [0., 0., 0.]],\n",
       "\n",
       "        [[0., 0., 0.],\n",
       "         [0., 0., 0.],\n",
       "         [0., 0., 0.]],\n",
       "\n",
       "        ...,\n",
       "\n",
       "        [[0., 0., 0.],\n",
       "         [0., 0., 0.],\n",
       "         [0., 0., 0.]],\n",
       "\n",
       "        [[0., 0., 0.],\n",
       "         [0., 0., 0.],\n",
       "         [0., 0., 0.]],\n",
       "\n",
       "        [[0., 0., 0.],\n",
       "         [0., 0., 0.],\n",
       "         [0., 0., 0.]]]])"
      ]
     },
     "execution_count": 171,
     "metadata": {},
     "output_type": "execute_result"
    }
   ],
   "source": [
    "P = np.zeros((len(inc),p_shape_inc0[0],p_shape_inc0[1],p_shape_inc0[2]))\n",
    "P"
   ]
  },
  {
   "cell_type": "code",
   "execution_count": 172,
   "metadata": {},
   "outputs": [
    {
     "data": {
      "text/plain": [
       "(11, 16, 3, 3)"
      ]
     },
     "execution_count": 172,
     "metadata": {},
     "output_type": "execute_result"
    }
   ],
   "source": [
    "P.shape"
   ]
  },
  {
   "cell_type": "code",
   "execution_count": 173,
   "metadata": {},
   "outputs": [
    {
     "data": {
      "text/plain": [
       "(11, 3, 3)"
      ]
     },
     "execution_count": 173,
     "metadata": {},
     "output_type": "execute_result"
    }
   ],
   "source": [
    "F.shape"
   ]
  },
  {
   "cell_type": "code",
   "execution_count": null,
   "metadata": {},
   "outputs": [],
   "source": []
  }
 ],
 "metadata": {
  "kernelspec": {
   "display_name": "Python 3",
   "language": "python",
   "name": "python3"
  },
  "language_info": {
   "codemirror_mode": {
    "name": "ipython",
    "version": 3
   },
   "file_extension": ".py",
   "mimetype": "text/x-python",
   "name": "python",
   "nbconvert_exporter": "python",
   "pygments_lexer": "ipython3",
   "version": "3.7.1"
  }
 },
 "nbformat": 4,
 "nbformat_minor": 2
}
