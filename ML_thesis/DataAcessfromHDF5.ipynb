{
 "cells": [
  {
   "cell_type": "markdown",
   "metadata": {},
   "source": [
    "# Using the HDF 5 data"
   ]
  },
  {
   "cell_type": "markdown",
   "metadata": {},
   "source": [
    "#### 1. Reading the file"
   ]
  },
  {
   "cell_type": "markdown",
   "metadata": {},
   "source": [
    "To open and read data we use the File method in read mode, r."
   ]
  },
  {
   "cell_type": "markdown",
   "metadata": {},
   "source": [
    "https://atztogo.github.io/phono3py/hdf5_howto.html\n",
    "\n",
    "http://docs.h5py.org/en/stable/high/attr.html#AttributeManager.__iter__"
   ]
  },
  {
   "cell_type": "code",
   "execution_count": 164,
   "metadata": {},
   "outputs": [
    {
     "data": {
      "text/plain": [
       "KeysView(<HDF5 file \"geom_tensionX.hdf5\" (mode r)>)"
      ]
     },
     "execution_count": 164,
     "metadata": {},
     "output_type": "execute_result"
    }
   ],
   "source": [
    "import h5py\n",
    "import pandas as pandas\n",
    "import numpy as np\n",
    "\n",
    "file_name = 'LinearElastic/geom_tensionX.hdf5'\n",
    "hf = h5py.File(file_name,'r')\n"
   ]
  },
  {
   "cell_type": "markdown",
   "metadata": {},
   "source": [
    "To see what data is in this file, we can call the keys() method on the file object."
   ]
  },
  {
   "cell_type": "code",
   "execution_count": 86,
   "metadata": {},
   "outputs": [
    {
     "data": {
      "text/plain": [
       "KeysView(<HDF5 file \"geom_tensionX.hdf5\" (mode r)>)"
      ]
     },
     "execution_count": 86,
     "metadata": {},
     "output_type": "execute_result"
    }
   ],
   "source": [
    "hf.keys()"
   ]
  },
  {
   "cell_type": "markdown",
   "metadata": {},
   "source": [
    "To read data in directories and subdirectories use the get method with the full subdirectory path."
   ]
  },
  {
   "cell_type": "code",
   "execution_count": 201,
   "metadata": {},
   "outputs": [],
   "source": [
    " import re\n",
    "cell_0 = hf.get('/geometry/cell_0')                        # material point coordinates (Undeformed)\n",
    "connectivity_cell = hf.get('/geometry/connectivity_cell')  # connectivity for cells\n",
    "connectivity_elem = hf.get('/geometry/connectivity_elem')  # connectivity for elements\n",
    "node_0 = hf.get('/geometry/node_0')                        # Nodes defining the vertices of elements and cells (undeformed)\n",
    "F_inc10 = hf.get('/inc00010/constituent/01_def and firstPicola/F')  \n",
    "P_inc10 = hf.get('/inc00010/constituent/01_def and firstPicola/P')\n",
    "\n"
   ]
  },
  {
   "cell_type": "code",
   "execution_count": 207,
   "metadata": {},
   "outputs": [
    {
     "data": {
      "text/plain": [
       "['geometry',\n",
       " 'inc00000',\n",
       " 'inc00001',\n",
       " 'inc00002',\n",
       " 'inc00003',\n",
       " 'inc00004',\n",
       " 'inc00005',\n",
       " 'inc00006',\n",
       " 'inc00007',\n",
       " 'inc00008',\n",
       " 'inc00009',\n",
       " 'inc00010',\n",
       " 'mapping']"
      ]
     },
     "execution_count": 207,
     "metadata": {},
     "output_type": "execute_result"
    }
   ],
   "source": [
    "list(hf)"
   ]
  },
  {
   "cell_type": "code",
   "execution_count": 212,
   "metadata": {},
   "outputs": [
    {
     "data": {
      "text/plain": [
       "['cell_0', 'connectivity_cell', 'connectivity_elem', 'node_0']"
      ]
     },
     "execution_count": 212,
     "metadata": {},
     "output_type": "execute_result"
    }
   ],
   "source": [
    "list(f['geometry'])"
   ]
  },
  {
   "cell_type": "code",
   "execution_count": 221,
   "metadata": {},
   "outputs": [
    {
     "data": {
      "text/plain": [
       "array([[0.125, 0.125, 0.5  ],\n",
       "       [0.375, 0.125, 0.5  ],\n",
       "       [0.625, 0.125, 0.5  ],\n",
       "       [0.875, 0.125, 0.5  ],\n",
       "       [0.125, 0.375, 0.5  ],\n",
       "       [0.375, 0.375, 0.5  ],\n",
       "       [0.625, 0.375, 0.5  ],\n",
       "       [0.875, 0.375, 0.5  ],\n",
       "       [0.125, 0.625, 0.5  ],\n",
       "       [0.375, 0.625, 0.5  ],\n",
       "       [0.625, 0.625, 0.5  ],\n",
       "       [0.875, 0.625, 0.5  ],\n",
       "       [0.125, 0.875, 0.5  ],\n",
       "       [0.375, 0.875, 0.5  ],\n",
       "       [0.625, 0.875, 0.5  ],\n",
       "       [0.875, 0.875, 0.5  ]])"
      ]
     },
     "execution_count": 221,
     "metadata": {},
     "output_type": "execute_result"
    }
   ],
   "source": [
    "np.array(f['geometry']['cell_0'])                    "
   ]
  },
  {
   "cell_type": "code",
   "execution_count": 220,
   "metadata": {},
   "outputs": [
    {
     "data": {
      "text/plain": [
       "array([[ 1,  2,  7,  6, 26, 27, 32, 31],\n",
       "       [ 2,  3,  8,  7, 27, 28, 33, 32],\n",
       "       [ 3,  4,  9,  8, 28, 29, 34, 33],\n",
       "       [ 4,  5, 10,  9, 29, 30, 35, 34],\n",
       "       [ 6,  7, 12, 11, 31, 32, 37, 36],\n",
       "       [ 7,  8, 13, 12, 32, 33, 38, 37],\n",
       "       [ 8,  9, 14, 13, 33, 34, 39, 38],\n",
       "       [ 9, 10, 15, 14, 34, 35, 40, 39],\n",
       "       [11, 12, 17, 16, 36, 37, 42, 41],\n",
       "       [12, 13, 18, 17, 37, 38, 43, 42],\n",
       "       [13, 14, 19, 18, 38, 39, 44, 43],\n",
       "       [14, 15, 20, 19, 39, 40, 45, 44],\n",
       "       [16, 17, 22, 21, 41, 42, 47, 46],\n",
       "       [17, 18, 23, 22, 42, 43, 48, 47],\n",
       "       [18, 19, 24, 23, 43, 44, 49, 48],\n",
       "       [19, 20, 25, 24, 44, 45, 50, 49]])"
      ]
     },
     "execution_count": 220,
     "metadata": {},
     "output_type": "execute_result"
    }
   ],
   "source": [
    "np.array((f['geometry']['connectivity_cell']))"
   ]
  },
  {
   "cell_type": "code",
   "execution_count": 223,
   "metadata": {},
   "outputs": [
    {
     "data": {
      "text/plain": [
       "array([[ 1,  2,  7,  6, 26, 27, 32, 31],\n",
       "       [ 2,  3,  8,  7, 27, 28, 33, 32],\n",
       "       [ 3,  4,  9,  8, 28, 29, 34, 33],\n",
       "       [ 4,  5, 10,  9, 29, 30, 35, 34],\n",
       "       [ 6,  7, 12, 11, 31, 32, 37, 36],\n",
       "       [ 7,  8, 13, 12, 32, 33, 38, 37],\n",
       "       [ 8,  9, 14, 13, 33, 34, 39, 38],\n",
       "       [ 9, 10, 15, 14, 34, 35, 40, 39],\n",
       "       [11, 12, 17, 16, 36, 37, 42, 41],\n",
       "       [12, 13, 18, 17, 37, 38, 43, 42],\n",
       "       [13, 14, 19, 18, 38, 39, 44, 43],\n",
       "       [14, 15, 20, 19, 39, 40, 45, 44],\n",
       "       [16, 17, 22, 21, 41, 42, 47, 46],\n",
       "       [17, 18, 23, 22, 42, 43, 48, 47],\n",
       "       [18, 19, 24, 23, 43, 44, 49, 48],\n",
       "       [19, 20, 25, 24, 44, 45, 50, 49]])"
      ]
     },
     "execution_count": 223,
     "metadata": {},
     "output_type": "execute_result"
    }
   ],
   "source": [
    "np.array((f['geometry']['connectivity_elem']))"
   ]
  },
  {
   "cell_type": "code",
   "execution_count": 229,
   "metadata": {},
   "outputs": [
    {
     "data": {
      "text/plain": [
       "[<HDF5 group \"/geometry\" (4 members)>,\n",
       " <HDF5 group \"/inc00000\" (2 members)>,\n",
       " <HDF5 group \"/inc00001\" (2 members)>,\n",
       " <HDF5 group \"/inc00002\" (2 members)>,\n",
       " <HDF5 group \"/inc00003\" (2 members)>,\n",
       " <HDF5 group \"/inc00004\" (2 members)>,\n",
       " <HDF5 group \"/inc00005\" (2 members)>,\n",
       " <HDF5 group \"/inc00006\" (2 members)>,\n",
       " <HDF5 group \"/inc00007\" (2 members)>,\n",
       " <HDF5 group \"/inc00008\" (2 members)>,\n",
       " <HDF5 group \"/inc00009\" (2 members)>,\n",
       " <HDF5 group \"/inc00010\" (2 members)>,\n",
       " <HDF5 group \"/mapping\" (2 members)>]"
      ]
     },
     "execution_count": 229,
     "metadata": {},
     "output_type": "execute_result"
    }
   ],
   "source": [
    "list(hf.values())"
   ]
  },
  {
   "cell_type": "code",
   "execution_count": 228,
   "metadata": {},
   "outputs": [
    {
     "data": {
      "text/plain": [
       "[('geometry', <HDF5 group \"/geometry\" (4 members)>),\n",
       " ('inc00000', <HDF5 group \"/inc00000\" (2 members)>),\n",
       " ('inc00001', <HDF5 group \"/inc00001\" (2 members)>),\n",
       " ('inc00002', <HDF5 group \"/inc00002\" (2 members)>),\n",
       " ('inc00003', <HDF5 group \"/inc00003\" (2 members)>),\n",
       " ('inc00004', <HDF5 group \"/inc00004\" (2 members)>),\n",
       " ('inc00005', <HDF5 group \"/inc00005\" (2 members)>),\n",
       " ('inc00006', <HDF5 group \"/inc00006\" (2 members)>),\n",
       " ('inc00007', <HDF5 group \"/inc00007\" (2 members)>),\n",
       " ('inc00008', <HDF5 group \"/inc00008\" (2 members)>),\n",
       " ('inc00009', <HDF5 group \"/inc00009\" (2 members)>),\n",
       " ('inc00010', <HDF5 group \"/inc00010\" (2 members)>),\n",
       " ('mapping', <HDF5 group \"/mapping\" (2 members)>)]"
      ]
     },
     "execution_count": 228,
     "metadata": {},
     "output_type": "execute_result"
    }
   ],
   "source": [
    "list(hf.items())"
   ]
  },
  {
   "cell_type": "code",
   "execution_count": 245,
   "metadata": {},
   "outputs": [
    {
     "name": "stdout",
     "output_type": "stream",
     "text": [
      "geometry\n",
      "geometry/cell_0\n",
      "geometry/connectivity_cell\n",
      "geometry/connectivity_elem\n",
      "geometry/node_0\n",
      "inc00000\n",
      "inc00000/constituent\n",
      "inc00000/constituent/01_def and firstPicola\n",
      "inc00000/constituent/01_def and firstPicola/F\n",
      "inc00000/constituent/01_def and firstPicola/P\n",
      "inc00000/constitutive\n",
      "inc00000/constitutive/01_Martensite\n",
      "inc00000/constitutive/01_Martensite/plastic\n",
      "inc00000/constitutive/02_ferrite\n",
      "inc00000/constitutive/02_ferrite/plastic\n",
      "inc00001\n",
      "inc00001/constituent\n",
      "inc00001/constituent/01_def and firstPicola\n",
      "inc00001/constituent/01_def and firstPicola/F\n",
      "inc00001/constituent/01_def and firstPicola/P\n",
      "inc00001/constitutive\n",
      "inc00001/constitutive/01_Martensite\n",
      "inc00001/constitutive/01_Martensite/plastic\n",
      "inc00001/constitutive/02_ferrite\n",
      "inc00001/constitutive/02_ferrite/plastic\n",
      "inc00002\n",
      "inc00002/constituent\n",
      "inc00002/constituent/01_def and firstPicola\n",
      "inc00002/constituent/01_def and firstPicola/F\n",
      "inc00002/constituent/01_def and firstPicola/P\n",
      "inc00002/constitutive\n",
      "inc00002/constitutive/01_Martensite\n",
      "inc00002/constitutive/01_Martensite/plastic\n",
      "inc00002/constitutive/02_ferrite\n",
      "inc00002/constitutive/02_ferrite/plastic\n",
      "inc00003\n",
      "inc00003/constituent\n",
      "inc00003/constituent/01_def and firstPicola\n",
      "inc00003/constituent/01_def and firstPicola/F\n",
      "inc00003/constituent/01_def and firstPicola/P\n",
      "inc00003/constitutive\n",
      "inc00003/constitutive/01_Martensite\n",
      "inc00003/constitutive/01_Martensite/plastic\n",
      "inc00003/constitutive/02_ferrite\n",
      "inc00003/constitutive/02_ferrite/plastic\n",
      "inc00004\n",
      "inc00004/constituent\n",
      "inc00004/constituent/01_def and firstPicola\n",
      "inc00004/constituent/01_def and firstPicola/F\n",
      "inc00004/constituent/01_def and firstPicola/P\n",
      "inc00004/constitutive\n",
      "inc00004/constitutive/01_Martensite\n",
      "inc00004/constitutive/01_Martensite/plastic\n",
      "inc00004/constitutive/02_ferrite\n",
      "inc00004/constitutive/02_ferrite/plastic\n",
      "inc00005\n",
      "inc00005/constituent\n",
      "inc00005/constituent/01_def and firstPicola\n",
      "inc00005/constituent/01_def and firstPicola/F\n",
      "inc00005/constituent/01_def and firstPicola/P\n",
      "inc00005/constitutive\n",
      "inc00005/constitutive/01_Martensite\n",
      "inc00005/constitutive/01_Martensite/plastic\n",
      "inc00005/constitutive/02_ferrite\n",
      "inc00005/constitutive/02_ferrite/plastic\n",
      "inc00006\n",
      "inc00006/constituent\n",
      "inc00006/constituent/01_def and firstPicola\n",
      "inc00006/constituent/01_def and firstPicola/F\n",
      "inc00006/constituent/01_def and firstPicola/P\n",
      "inc00006/constitutive\n",
      "inc00006/constitutive/01_Martensite\n",
      "inc00006/constitutive/01_Martensite/plastic\n",
      "inc00006/constitutive/02_ferrite\n",
      "inc00006/constitutive/02_ferrite/plastic\n",
      "inc00007\n",
      "inc00007/constituent\n",
      "inc00007/constituent/01_def and firstPicola\n",
      "inc00007/constituent/01_def and firstPicola/F\n",
      "inc00007/constituent/01_def and firstPicola/P\n",
      "inc00007/constitutive\n",
      "inc00007/constitutive/01_Martensite\n",
      "inc00007/constitutive/01_Martensite/plastic\n",
      "inc00007/constitutive/02_ferrite\n",
      "inc00007/constitutive/02_ferrite/plastic\n",
      "inc00008\n",
      "inc00008/constituent\n",
      "inc00008/constituent/01_def and firstPicola\n",
      "inc00008/constituent/01_def and firstPicola/F\n",
      "inc00008/constituent/01_def and firstPicola/P\n",
      "inc00008/constitutive\n",
      "inc00008/constitutive/01_Martensite\n",
      "inc00008/constitutive/01_Martensite/plastic\n",
      "inc00008/constitutive/02_ferrite\n",
      "inc00008/constitutive/02_ferrite/plastic\n",
      "inc00009\n",
      "inc00009/constituent\n",
      "inc00009/constituent/01_def and firstPicola\n",
      "inc00009/constituent/01_def and firstPicola/F\n",
      "inc00009/constituent/01_def and firstPicola/P\n",
      "inc00009/constitutive\n",
      "inc00009/constitutive/01_Martensite\n",
      "inc00009/constitutive/01_Martensite/plastic\n",
      "inc00009/constitutive/02_ferrite\n",
      "inc00009/constitutive/02_ferrite/plastic\n",
      "inc00010\n",
      "inc00010/constituent\n",
      "inc00010/constituent/01_def and firstPicola\n",
      "inc00010/constituent/01_def and firstPicola/F\n",
      "inc00010/constituent/01_def and firstPicola/P\n",
      "inc00010/constitutive\n",
      "inc00010/constitutive/01_Martensite\n",
      "inc00010/constitutive/01_Martensite/plastic\n",
      "inc00010/constitutive/02_ferrite\n",
      "inc00010/constitutive/02_ferrite/plastic\n",
      "mapping\n",
      "mapping/cellResults\n",
      "mapping/cellResults/constituent\n",
      "mapping/cellResults/constitutive\n",
      "mapping/cells\n"
     ]
    }
   ],
   "source": [
    "f.visit(print)"
   ]
  },
  {
   "cell_type": "code",
   "execution_count": 271,
   "metadata": {},
   "outputs": [
    {
     "data": {
      "text/plain": [
       "'geometry'"
      ]
     },
     "metadata": {},
     "output_type": "display_data"
    },
    {
     "data": {
      "text/plain": [
       "'geometry/cell_0'"
      ]
     },
     "metadata": {},
     "output_type": "display_data"
    },
    {
     "data": {
      "text/plain": [
       "'geometry/connectivity_cell'"
      ]
     },
     "metadata": {},
     "output_type": "display_data"
    },
    {
     "data": {
      "text/plain": [
       "'geometry/connectivity_elem'"
      ]
     },
     "metadata": {},
     "output_type": "display_data"
    },
    {
     "data": {
      "text/plain": [
       "'geometry/node_0'"
      ]
     },
     "metadata": {},
     "output_type": "display_data"
    },
    {
     "data": {
      "text/plain": [
       "'inc00000'"
      ]
     },
     "metadata": {},
     "output_type": "display_data"
    },
    {
     "data": {
      "text/plain": [
       "'inc00000/constituent'"
      ]
     },
     "metadata": {},
     "output_type": "display_data"
    },
    {
     "data": {
      "text/plain": [
       "'inc00000/constituent/01_def and firstPicola'"
      ]
     },
     "metadata": {},
     "output_type": "display_data"
    },
    {
     "data": {
      "text/plain": [
       "'inc00000/constituent/01_def and firstPicola/F'"
      ]
     },
     "metadata": {},
     "output_type": "display_data"
    },
    {
     "data": {
      "text/plain": [
       "'inc00000/constituent/01_def and firstPicola/P'"
      ]
     },
     "metadata": {},
     "output_type": "display_data"
    },
    {
     "data": {
      "text/plain": [
       "'inc00000/constitutive'"
      ]
     },
     "metadata": {},
     "output_type": "display_data"
    },
    {
     "data": {
      "text/plain": [
       "'inc00000/constitutive/01_Martensite'"
      ]
     },
     "metadata": {},
     "output_type": "display_data"
    },
    {
     "data": {
      "text/plain": [
       "'inc00000/constitutive/01_Martensite/plastic'"
      ]
     },
     "metadata": {},
     "output_type": "display_data"
    },
    {
     "data": {
      "text/plain": [
       "'inc00000/constitutive/02_ferrite'"
      ]
     },
     "metadata": {},
     "output_type": "display_data"
    },
    {
     "data": {
      "text/plain": [
       "'inc00000/constitutive/02_ferrite/plastic'"
      ]
     },
     "metadata": {},
     "output_type": "display_data"
    },
    {
     "data": {
      "text/plain": [
       "'inc00001'"
      ]
     },
     "metadata": {},
     "output_type": "display_data"
    },
    {
     "data": {
      "text/plain": [
       "'inc00001/constituent'"
      ]
     },
     "metadata": {},
     "output_type": "display_data"
    },
    {
     "data": {
      "text/plain": [
       "'inc00001/constituent/01_def and firstPicola'"
      ]
     },
     "metadata": {},
     "output_type": "display_data"
    },
    {
     "data": {
      "text/plain": [
       "'inc00001/constituent/01_def and firstPicola/F'"
      ]
     },
     "metadata": {},
     "output_type": "display_data"
    },
    {
     "data": {
      "text/plain": [
       "'inc00001/constituent/01_def and firstPicola/P'"
      ]
     },
     "metadata": {},
     "output_type": "display_data"
    },
    {
     "data": {
      "text/plain": [
       "'inc00001/constitutive'"
      ]
     },
     "metadata": {},
     "output_type": "display_data"
    },
    {
     "data": {
      "text/plain": [
       "'inc00001/constitutive/01_Martensite'"
      ]
     },
     "metadata": {},
     "output_type": "display_data"
    },
    {
     "data": {
      "text/plain": [
       "'inc00001/constitutive/01_Martensite/plastic'"
      ]
     },
     "metadata": {},
     "output_type": "display_data"
    },
    {
     "data": {
      "text/plain": [
       "'inc00001/constitutive/02_ferrite'"
      ]
     },
     "metadata": {},
     "output_type": "display_data"
    },
    {
     "data": {
      "text/plain": [
       "'inc00001/constitutive/02_ferrite/plastic'"
      ]
     },
     "metadata": {},
     "output_type": "display_data"
    },
    {
     "data": {
      "text/plain": [
       "'inc00002'"
      ]
     },
     "metadata": {},
     "output_type": "display_data"
    },
    {
     "data": {
      "text/plain": [
       "'inc00002/constituent'"
      ]
     },
     "metadata": {},
     "output_type": "display_data"
    },
    {
     "data": {
      "text/plain": [
       "'inc00002/constituent/01_def and firstPicola'"
      ]
     },
     "metadata": {},
     "output_type": "display_data"
    },
    {
     "data": {
      "text/plain": [
       "'inc00002/constituent/01_def and firstPicola/F'"
      ]
     },
     "metadata": {},
     "output_type": "display_data"
    },
    {
     "data": {
      "text/plain": [
       "'inc00002/constituent/01_def and firstPicola/P'"
      ]
     },
     "metadata": {},
     "output_type": "display_data"
    },
    {
     "data": {
      "text/plain": [
       "'inc00002/constitutive'"
      ]
     },
     "metadata": {},
     "output_type": "display_data"
    },
    {
     "data": {
      "text/plain": [
       "'inc00002/constitutive/01_Martensite'"
      ]
     },
     "metadata": {},
     "output_type": "display_data"
    },
    {
     "data": {
      "text/plain": [
       "'inc00002/constitutive/01_Martensite/plastic'"
      ]
     },
     "metadata": {},
     "output_type": "display_data"
    },
    {
     "data": {
      "text/plain": [
       "'inc00002/constitutive/02_ferrite'"
      ]
     },
     "metadata": {},
     "output_type": "display_data"
    },
    {
     "data": {
      "text/plain": [
       "'inc00002/constitutive/02_ferrite/plastic'"
      ]
     },
     "metadata": {},
     "output_type": "display_data"
    },
    {
     "data": {
      "text/plain": [
       "'inc00003'"
      ]
     },
     "metadata": {},
     "output_type": "display_data"
    },
    {
     "data": {
      "text/plain": [
       "'inc00003/constituent'"
      ]
     },
     "metadata": {},
     "output_type": "display_data"
    },
    {
     "data": {
      "text/plain": [
       "'inc00003/constituent/01_def and firstPicola'"
      ]
     },
     "metadata": {},
     "output_type": "display_data"
    },
    {
     "data": {
      "text/plain": [
       "'inc00003/constituent/01_def and firstPicola/F'"
      ]
     },
     "metadata": {},
     "output_type": "display_data"
    },
    {
     "data": {
      "text/plain": [
       "'inc00003/constituent/01_def and firstPicola/P'"
      ]
     },
     "metadata": {},
     "output_type": "display_data"
    },
    {
     "data": {
      "text/plain": [
       "'inc00003/constitutive'"
      ]
     },
     "metadata": {},
     "output_type": "display_data"
    },
    {
     "data": {
      "text/plain": [
       "'inc00003/constitutive/01_Martensite'"
      ]
     },
     "metadata": {},
     "output_type": "display_data"
    },
    {
     "data": {
      "text/plain": [
       "'inc00003/constitutive/01_Martensite/plastic'"
      ]
     },
     "metadata": {},
     "output_type": "display_data"
    },
    {
     "data": {
      "text/plain": [
       "'inc00003/constitutive/02_ferrite'"
      ]
     },
     "metadata": {},
     "output_type": "display_data"
    },
    {
     "data": {
      "text/plain": [
       "'inc00003/constitutive/02_ferrite/plastic'"
      ]
     },
     "metadata": {},
     "output_type": "display_data"
    },
    {
     "data": {
      "text/plain": [
       "'inc00004'"
      ]
     },
     "metadata": {},
     "output_type": "display_data"
    },
    {
     "data": {
      "text/plain": [
       "'inc00004/constituent'"
      ]
     },
     "metadata": {},
     "output_type": "display_data"
    },
    {
     "data": {
      "text/plain": [
       "'inc00004/constituent/01_def and firstPicola'"
      ]
     },
     "metadata": {},
     "output_type": "display_data"
    },
    {
     "data": {
      "text/plain": [
       "'inc00004/constituent/01_def and firstPicola/F'"
      ]
     },
     "metadata": {},
     "output_type": "display_data"
    },
    {
     "data": {
      "text/plain": [
       "'inc00004/constituent/01_def and firstPicola/P'"
      ]
     },
     "metadata": {},
     "output_type": "display_data"
    },
    {
     "data": {
      "text/plain": [
       "'inc00004/constitutive'"
      ]
     },
     "metadata": {},
     "output_type": "display_data"
    },
    {
     "data": {
      "text/plain": [
       "'inc00004/constitutive/01_Martensite'"
      ]
     },
     "metadata": {},
     "output_type": "display_data"
    },
    {
     "data": {
      "text/plain": [
       "'inc00004/constitutive/01_Martensite/plastic'"
      ]
     },
     "metadata": {},
     "output_type": "display_data"
    },
    {
     "data": {
      "text/plain": [
       "'inc00004/constitutive/02_ferrite'"
      ]
     },
     "metadata": {},
     "output_type": "display_data"
    },
    {
     "data": {
      "text/plain": [
       "'inc00004/constitutive/02_ferrite/plastic'"
      ]
     },
     "metadata": {},
     "output_type": "display_data"
    },
    {
     "data": {
      "text/plain": [
       "'inc00005'"
      ]
     },
     "metadata": {},
     "output_type": "display_data"
    },
    {
     "data": {
      "text/plain": [
       "'inc00005/constituent'"
      ]
     },
     "metadata": {},
     "output_type": "display_data"
    },
    {
     "data": {
      "text/plain": [
       "'inc00005/constituent/01_def and firstPicola'"
      ]
     },
     "metadata": {},
     "output_type": "display_data"
    },
    {
     "data": {
      "text/plain": [
       "'inc00005/constituent/01_def and firstPicola/F'"
      ]
     },
     "metadata": {},
     "output_type": "display_data"
    },
    {
     "data": {
      "text/plain": [
       "'inc00005/constituent/01_def and firstPicola/P'"
      ]
     },
     "metadata": {},
     "output_type": "display_data"
    },
    {
     "data": {
      "text/plain": [
       "'inc00005/constitutive'"
      ]
     },
     "metadata": {},
     "output_type": "display_data"
    },
    {
     "data": {
      "text/plain": [
       "'inc00005/constitutive/01_Martensite'"
      ]
     },
     "metadata": {},
     "output_type": "display_data"
    },
    {
     "data": {
      "text/plain": [
       "'inc00005/constitutive/01_Martensite/plastic'"
      ]
     },
     "metadata": {},
     "output_type": "display_data"
    },
    {
     "data": {
      "text/plain": [
       "'inc00005/constitutive/02_ferrite'"
      ]
     },
     "metadata": {},
     "output_type": "display_data"
    },
    {
     "data": {
      "text/plain": [
       "'inc00005/constitutive/02_ferrite/plastic'"
      ]
     },
     "metadata": {},
     "output_type": "display_data"
    },
    {
     "data": {
      "text/plain": [
       "'inc00006'"
      ]
     },
     "metadata": {},
     "output_type": "display_data"
    },
    {
     "data": {
      "text/plain": [
       "'inc00006/constituent'"
      ]
     },
     "metadata": {},
     "output_type": "display_data"
    },
    {
     "data": {
      "text/plain": [
       "'inc00006/constituent/01_def and firstPicola'"
      ]
     },
     "metadata": {},
     "output_type": "display_data"
    },
    {
     "data": {
      "text/plain": [
       "'inc00006/constituent/01_def and firstPicola/F'"
      ]
     },
     "metadata": {},
     "output_type": "display_data"
    },
    {
     "data": {
      "text/plain": [
       "'inc00006/constituent/01_def and firstPicola/P'"
      ]
     },
     "metadata": {},
     "output_type": "display_data"
    },
    {
     "data": {
      "text/plain": [
       "'inc00006/constitutive'"
      ]
     },
     "metadata": {},
     "output_type": "display_data"
    },
    {
     "data": {
      "text/plain": [
       "'inc00006/constitutive/01_Martensite'"
      ]
     },
     "metadata": {},
     "output_type": "display_data"
    },
    {
     "data": {
      "text/plain": [
       "'inc00006/constitutive/01_Martensite/plastic'"
      ]
     },
     "metadata": {},
     "output_type": "display_data"
    },
    {
     "data": {
      "text/plain": [
       "'inc00006/constitutive/02_ferrite'"
      ]
     },
     "metadata": {},
     "output_type": "display_data"
    },
    {
     "data": {
      "text/plain": [
       "'inc00006/constitutive/02_ferrite/plastic'"
      ]
     },
     "metadata": {},
     "output_type": "display_data"
    },
    {
     "data": {
      "text/plain": [
       "'inc00007'"
      ]
     },
     "metadata": {},
     "output_type": "display_data"
    },
    {
     "data": {
      "text/plain": [
       "'inc00007/constituent'"
      ]
     },
     "metadata": {},
     "output_type": "display_data"
    },
    {
     "data": {
      "text/plain": [
       "'inc00007/constituent/01_def and firstPicola'"
      ]
     },
     "metadata": {},
     "output_type": "display_data"
    },
    {
     "data": {
      "text/plain": [
       "'inc00007/constituent/01_def and firstPicola/F'"
      ]
     },
     "metadata": {},
     "output_type": "display_data"
    },
    {
     "data": {
      "text/plain": [
       "'inc00007/constituent/01_def and firstPicola/P'"
      ]
     },
     "metadata": {},
     "output_type": "display_data"
    },
    {
     "data": {
      "text/plain": [
       "'inc00007/constitutive'"
      ]
     },
     "metadata": {},
     "output_type": "display_data"
    },
    {
     "data": {
      "text/plain": [
       "'inc00007/constitutive/01_Martensite'"
      ]
     },
     "metadata": {},
     "output_type": "display_data"
    },
    {
     "data": {
      "text/plain": [
       "'inc00007/constitutive/01_Martensite/plastic'"
      ]
     },
     "metadata": {},
     "output_type": "display_data"
    },
    {
     "data": {
      "text/plain": [
       "'inc00007/constitutive/02_ferrite'"
      ]
     },
     "metadata": {},
     "output_type": "display_data"
    },
    {
     "data": {
      "text/plain": [
       "'inc00007/constitutive/02_ferrite/plastic'"
      ]
     },
     "metadata": {},
     "output_type": "display_data"
    },
    {
     "data": {
      "text/plain": [
       "'inc00008'"
      ]
     },
     "metadata": {},
     "output_type": "display_data"
    },
    {
     "data": {
      "text/plain": [
       "'inc00008/constituent'"
      ]
     },
     "metadata": {},
     "output_type": "display_data"
    },
    {
     "data": {
      "text/plain": [
       "'inc00008/constituent/01_def and firstPicola'"
      ]
     },
     "metadata": {},
     "output_type": "display_data"
    },
    {
     "data": {
      "text/plain": [
       "'inc00008/constituent/01_def and firstPicola/F'"
      ]
     },
     "metadata": {},
     "output_type": "display_data"
    },
    {
     "data": {
      "text/plain": [
       "'inc00008/constituent/01_def and firstPicola/P'"
      ]
     },
     "metadata": {},
     "output_type": "display_data"
    },
    {
     "data": {
      "text/plain": [
       "'inc00008/constitutive'"
      ]
     },
     "metadata": {},
     "output_type": "display_data"
    },
    {
     "data": {
      "text/plain": [
       "'inc00008/constitutive/01_Martensite'"
      ]
     },
     "metadata": {},
     "output_type": "display_data"
    },
    {
     "data": {
      "text/plain": [
       "'inc00008/constitutive/01_Martensite/plastic'"
      ]
     },
     "metadata": {},
     "output_type": "display_data"
    },
    {
     "data": {
      "text/plain": [
       "'inc00008/constitutive/02_ferrite'"
      ]
     },
     "metadata": {},
     "output_type": "display_data"
    },
    {
     "data": {
      "text/plain": [
       "'inc00008/constitutive/02_ferrite/plastic'"
      ]
     },
     "metadata": {},
     "output_type": "display_data"
    },
    {
     "data": {
      "text/plain": [
       "'inc00009'"
      ]
     },
     "metadata": {},
     "output_type": "display_data"
    },
    {
     "data": {
      "text/plain": [
       "'inc00009/constituent'"
      ]
     },
     "metadata": {},
     "output_type": "display_data"
    },
    {
     "data": {
      "text/plain": [
       "'inc00009/constituent/01_def and firstPicola'"
      ]
     },
     "metadata": {},
     "output_type": "display_data"
    },
    {
     "data": {
      "text/plain": [
       "'inc00009/constituent/01_def and firstPicola/F'"
      ]
     },
     "metadata": {},
     "output_type": "display_data"
    },
    {
     "data": {
      "text/plain": [
       "'inc00009/constituent/01_def and firstPicola/P'"
      ]
     },
     "metadata": {},
     "output_type": "display_data"
    },
    {
     "data": {
      "text/plain": [
       "'inc00009/constitutive'"
      ]
     },
     "metadata": {},
     "output_type": "display_data"
    },
    {
     "data": {
      "text/plain": [
       "'inc00009/constitutive/01_Martensite'"
      ]
     },
     "metadata": {},
     "output_type": "display_data"
    },
    {
     "data": {
      "text/plain": [
       "'inc00009/constitutive/01_Martensite/plastic'"
      ]
     },
     "metadata": {},
     "output_type": "display_data"
    },
    {
     "data": {
      "text/plain": [
       "'inc00009/constitutive/02_ferrite'"
      ]
     },
     "metadata": {},
     "output_type": "display_data"
    },
    {
     "data": {
      "text/plain": [
       "'inc00009/constitutive/02_ferrite/plastic'"
      ]
     },
     "metadata": {},
     "output_type": "display_data"
    },
    {
     "data": {
      "text/plain": [
       "'inc00010'"
      ]
     },
     "metadata": {},
     "output_type": "display_data"
    },
    {
     "data": {
      "text/plain": [
       "'inc00010/constituent'"
      ]
     },
     "metadata": {},
     "output_type": "display_data"
    },
    {
     "data": {
      "text/plain": [
       "'inc00010/constituent/01_def and firstPicola'"
      ]
     },
     "metadata": {},
     "output_type": "display_data"
    },
    {
     "data": {
      "text/plain": [
       "'inc00010/constituent/01_def and firstPicola/F'"
      ]
     },
     "metadata": {},
     "output_type": "display_data"
    },
    {
     "data": {
      "text/plain": [
       "'inc00010/constituent/01_def and firstPicola/P'"
      ]
     },
     "metadata": {},
     "output_type": "display_data"
    },
    {
     "data": {
      "text/plain": [
       "'inc00010/constitutive'"
      ]
     },
     "metadata": {},
     "output_type": "display_data"
    },
    {
     "data": {
      "text/plain": [
       "'inc00010/constitutive/01_Martensite'"
      ]
     },
     "metadata": {},
     "output_type": "display_data"
    },
    {
     "data": {
      "text/plain": [
       "'inc00010/constitutive/01_Martensite/plastic'"
      ]
     },
     "metadata": {},
     "output_type": "display_data"
    },
    {
     "data": {
      "text/plain": [
       "'inc00010/constitutive/02_ferrite'"
      ]
     },
     "metadata": {},
     "output_type": "display_data"
    },
    {
     "data": {
      "text/plain": [
       "'inc00010/constitutive/02_ferrite/plastic'"
      ]
     },
     "metadata": {},
     "output_type": "display_data"
    },
    {
     "data": {
      "text/plain": [
       "'mapping'"
      ]
     },
     "metadata": {},
     "output_type": "display_data"
    },
    {
     "data": {
      "text/plain": [
       "'mapping/cellResults'"
      ]
     },
     "metadata": {},
     "output_type": "display_data"
    },
    {
     "data": {
      "text/plain": [
       "'mapping/cellResults/constituent'"
      ]
     },
     "metadata": {},
     "output_type": "display_data"
    },
    {
     "data": {
      "text/plain": [
       "'mapping/cellResults/constitutive'"
      ]
     },
     "metadata": {},
     "output_type": "display_data"
    },
    {
     "data": {
      "text/plain": [
       "'mapping/cells'"
      ]
     },
     "metadata": {},
     "output_type": "display_data"
    }
   ],
   "source": []
  },
  {
   "cell_type": "code",
   "execution_count": 261,
   "metadata": {},
   "outputs": [
    {
     "data": {
      "text/plain": [
       "array([[ 1,  2,  7,  6, 26, 27, 32, 31],\n",
       "       [ 2,  3,  8,  7, 27, 28, 33, 32],\n",
       "       [ 3,  4,  9,  8, 28, 29, 34, 33],\n",
       "       [ 4,  5, 10,  9, 29, 30, 35, 34],\n",
       "       [ 6,  7, 12, 11, 31, 32, 37, 36],\n",
       "       [ 7,  8, 13, 12, 32, 33, 38, 37],\n",
       "       [ 8,  9, 14, 13, 33, 34, 39, 38],\n",
       "       [ 9, 10, 15, 14, 34, 35, 40, 39],\n",
       "       [11, 12, 17, 16, 36, 37, 42, 41],\n",
       "       [12, 13, 18, 17, 37, 38, 43, 42],\n",
       "       [13, 14, 19, 18, 38, 39, 44, 43],\n",
       "       [14, 15, 20, 19, 39, 40, 45, 44],\n",
       "       [16, 17, 22, 21, 41, 42, 47, 46],\n",
       "       [17, 18, 23, 22, 42, 43, 48, 47],\n",
       "       [18, 19, 24, 23, 43, 44, 49, 48],\n",
       "       [19, 20, 25, 24, 44, 45, 50, 49]])"
      ]
     },
     "execution_count": 261,
     "metadata": {},
     "output_type": "execute_result"
    }
   ],
   "source": [
    "np.array(f['geometry']['cell_0'])                 \n",
    "np.array((f['geometry']['connectivity_elem']))"
   ]
  },
  {
   "cell_type": "code",
   "execution_count": 272,
   "metadata": {},
   "outputs": [],
   "source": [
    "cell_0 = hf.get('/geometry/cell_0')     "
   ]
  },
  {
   "cell_type": "code",
   "execution_count": null,
   "metadata": {},
   "outputs": [],
   "source": []
  },
  {
   "cell_type": "code",
   "execution_count": 280,
   "metadata": {},
   "outputs": [],
   "source": []
  },
  {
   "cell_type": "code",
   "execution_count": null,
   "metadata": {},
   "outputs": [],
   "source": []
  }
 ],
 "metadata": {
  "kernelspec": {
   "display_name": "Python 3",
   "language": "python",
   "name": "python3"
  },
  "language_info": {
   "codemirror_mode": {
    "name": "ipython",
    "version": 3
   },
   "file_extension": ".py",
   "mimetype": "text/x-python",
   "name": "python",
   "nbconvert_exporter": "python",
   "pygments_lexer": "ipython3",
   "version": "3.7.1"
  }
 },
 "nbformat": 4,
 "nbformat_minor": 2
}
