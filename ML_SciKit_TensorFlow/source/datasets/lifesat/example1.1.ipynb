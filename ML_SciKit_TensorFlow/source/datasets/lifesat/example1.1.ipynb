{
 "cells": [
  {
   "cell_type": "code",
   "execution_count": 8,
   "metadata": {},
   "outputs": [
    {
     "data": {
      "image/png": "[encoded data removed]",
      "text/plain": [
       "<Figure size 432x288 with 1 Axes>"
      ]
     },
     "metadata": {
      "needs_background": "light"
     },
     "output_type": "display_data"
    },
    {
     "name": "stdout",
     "output_type": "stream",
     "text": [
      "[[1802687.53336486]]\n"
     ]
    }
   ],
   "source": [
    "import matplotlib\n",
    "import matplotlib.pyplot as plt\n",
    "import numpy as np\n",
    "import pandas as pd\n",
    "import sklearn.linear_model\n",
    "\n",
    "\n",
    "    \n",
    "\n",
    "#load the data\n",
    "oecd_bli = pd.read_csv(\"oecd_bli_2015.csv\",thousands=',')\n",
    "gdp_per_capita = pd.read_csv(\"gdp_per_capita.csv\",thousands=',',delimiter='\\t',encoding='latin1',na_values='n/a')\n",
    "\n",
    "\n",
    "#prepare the data\n",
    "def prepare_country_stats(oecd_bli, gdp_per_capita):\n",
    "    #get the pandas dataframe of GDP per capita and Life satisfaction\n",
    "    oecd_bli = oecd_bli[oecd_bli[\"INEQUALITY\"]==\"TOT\"]\n",
    "    oecd_bli = oecd_bli.pivot(index=\"Country\", columns=\"Indicator\", values=\"Value\")\n",
    "    gdp_per_capita.rename(columns={\"2015\": \"GDP per capita\"}, inplace=True)\n",
    "    gdp_per_capita.set_index(\"Country\", inplace=True)\n",
    "    full_country_stats = pd.merge(left=oecd_bli, right=gdp_per_capita, left_index=True, right_index=True)\n",
    "    return full_country_stats[[\"GDP per capita\", 'Life satisfaction']]\n",
    "\n",
    "\n",
    "country_stats = prepare_country_stats(oecd_bli, gdp_per_capita) \n",
    "\n",
    "#regularization remove_indices = [0, 1, 6, 8, 33, 34, 35]\n",
    "country_stats.to_csv('country_stats.csv',encoding='utf-8')\n",
    "X = np.c_[country_stats[\"GDP per capita\"]]\n",
    "Y = np.c_[country_stats[\"Life satisfaction\"]]\n",
    "\n",
    "#Visualize the data\n",
    "country_stats.plot(kind='scatter',x='GDP per capita',y='Life satisfaction')\n",
    "\n",
    "#Select a linear model\n",
    "lin_reg_model = sklearn.linear_model.LinearRegression()\n",
    "\n",
    "#Train the model\n",
    "lin_reg_model.fit(X, Y)\n",
    "\n",
    "#plot Regression model\n",
    "t0, t1 = lin_reg_model.intercept_[0], lin_reg_model.coef_[0][0]\n",
    "X = np.linspace(0, 110000, 1000)\n",
    "plt.plot(X, t0 + t1 * X, \"k\")\n",
    "plt.show()\n",
    "\n",
    "#Make a prediction for Cyprus\n",
    "X_new=[[77]]\n",
    "print(lin_reg_model.predict(X_new))"
   ]
  },
  {
   "cell_type": "code",
   "execution_count": null,
   "metadata": {},
   "outputs": [],
   "source": []
  },
  {
   "cell_type": "code",
   "execution_count": null,
   "metadata": {},
   "outputs": [],
   "source": []
  }
 ],
 "metadata": {
  "kernelspec": {
   "display_name": "Python 3",
   "language": "python",
   "name": "python3"
  },
  "language_info": {
   "codemirror_mode": {
    "name": "ipython",
    "version": 3
   },
   "file_extension": ".py",
   "mimetype": "text/x-python",
   "name": "python",
   "nbconvert_exporter": "python",
   "pygments_lexer": "ipython3",
   "version": "3.7.1"
  }
 },
 "nbformat": 4,
 "nbformat_minor": 2
}
