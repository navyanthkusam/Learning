{
 "cells": [
  {
   "cell_type": "code",
   "execution_count": 2,
   "metadata": {},
   "outputs": [],
   "source": [
    "%matplotlib inline\n",
    "import matplotlib.pyplot as plt\n",
    "import matplotlib.image as mpimg\n",
    "import numpy as np\n"
   ]
  },
  {
   "cell_type": "code",
   "execution_count": 7,
   "metadata": {
    "scrolled": true
   },
   "outputs": [
    {
     "data": {
      "text/plain": [
       "array([[[0.40784314, 0.40784314, 0.40784314],\n",
       "        [0.40784314, 0.40784314, 0.40784314],\n",
       "        [0.40784314, 0.40784314, 0.40784314],\n",
       "        ...,\n",
       "        [0.42745098, 0.42745098, 0.42745098],\n",
       "        [0.42745098, 0.42745098, 0.42745098],\n",
       "        [0.42745098, 0.42745098, 0.42745098]],\n",
       "\n",
       "       [[0.4117647 , 0.4117647 , 0.4117647 ],\n",
       "        [0.4117647 , 0.4117647 , 0.4117647 ],\n",
       "        [0.4117647 , 0.4117647 , 0.4117647 ],\n",
       "        ...,\n",
       "        [0.42745098, 0.42745098, 0.42745098],\n",
       "        [0.42745098, 0.42745098, 0.42745098],\n",
       "        [0.42745098, 0.42745098, 0.42745098]],\n",
       "\n",
       "       [[0.41960785, 0.41960785, 0.41960785],\n",
       "        [0.41568628, 0.41568628, 0.41568628],\n",
       "        [0.41568628, 0.41568628, 0.41568628],\n",
       "        ...,\n",
       "        [0.43137255, 0.43137255, 0.43137255],\n",
       "        [0.43137255, 0.43137255, 0.43137255],\n",
       "        [0.43137255, 0.43137255, 0.43137255]],\n",
       "\n",
       "       ...,\n",
       "\n",
       "       [[0.4392157 , 0.4392157 , 0.4392157 ],\n",
       "        [0.43529412, 0.43529412, 0.43529412],\n",
       "        [0.43137255, 0.43137255, 0.43137255],\n",
       "        ...,\n",
       "        [0.45490196, 0.45490196, 0.45490196],\n",
       "        [0.4509804 , 0.4509804 , 0.4509804 ],\n",
       "        [0.4509804 , 0.4509804 , 0.4509804 ]],\n",
       "\n",
       "       [[0.44313726, 0.44313726, 0.44313726],\n",
       "        [0.44313726, 0.44313726, 0.44313726],\n",
       "        [0.4392157 , 0.4392157 , 0.4392157 ],\n",
       "        ...,\n",
       "        [0.4509804 , 0.4509804 , 0.4509804 ],\n",
       "        [0.44705883, 0.44705883, 0.44705883],\n",
       "        [0.44705883, 0.44705883, 0.44705883]],\n",
       "\n",
       "       [[0.44313726, 0.44313726, 0.44313726],\n",
       "        [0.4509804 , 0.4509804 , 0.4509804 ],\n",
       "        [0.4509804 , 0.4509804 , 0.4509804 ],\n",
       "        ...,\n",
       "        [0.44705883, 0.44705883, 0.44705883],\n",
       "        [0.44705883, 0.44705883, 0.44705883],\n",
       "        [0.44313726, 0.44313726, 0.44313726]]], dtype=float32)"
      ]
     },
     "execution_count": 7,
     "metadata": {},
     "output_type": "execute_result"
    }
   ],
   "source": [
    "img=mpimg.imread('stinkbug.png')\n",
    "img"
   ]
  },
  {
   "cell_type": "markdown",
   "metadata": {},
   "source": [
    "Each inner list represents a pixel. Here, with an RGB image, there are 3 values. Since it’s a black and white image, R, G, and B are all similar. An RGBA (where A is alpha, or transparency), has 4 values per inner list, and a simple luminance image just has one value (and is thus only a 2-D array, not a 3-D array). For RGB and RGBA images, matplotlib supports float32 and uint8 data types. For grayscale, matplotlib supports only float32. If your array data does not meet one of these descriptions, you need to rescale it."
   ]
  },
  {
   "cell_type": "markdown",
   "metadata": {},
   "source": [
    "# "
   ]
  }
 ],
 "metadata": {
  "kernelspec": {
   "display_name": "Python 3",
   "language": "python",
   "name": "python3"
  },
  "language_info": {
   "codemirror_mode": {
    "name": "ipython",
    "version": 3
   },
   "file_extension": ".py",
   "mimetype": "text/x-python",
   "name": "python",
   "nbconvert_exporter": "python",
   "pygments_lexer": "ipython3",
   "version": "3.6.4"
  }
 },
 "nbformat": 4,
 "nbformat_minor": 2
}
